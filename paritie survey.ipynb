{
 "cells": [
  {
   "cell_type": "markdown",
   "metadata": {},
   "source": [
    "## Impact of Social Media Usage in the Workplace\n",
    "\n",
    "The purpose of our research project is to explore the habits of individuals and workplace policy on social media usage that impact on the productivity of members of staff. \n",
    "\n",
    "#### We aim to answer the following questions:\n",
    "\n",
    "- How much time spent on social media\n",
    "- How much does social media usage in the workplace affect productivity of staff \n",
    "- How much does workplace policy on social media usage play a factor in worker's social media activity\n",
    "- How much does job description at work place play a factor in worker's social media activity\n"
   ]
  },
  {
   "cell_type": "code",
   "execution_count": null,
   "metadata": {},
   "outputs": [],
   "source": [
    "import numpy as np \n",
    "import pandas as pd \n",
    "import plotly as pl\n",
    "import cufflinks as cf\n",
    "cf.go_offline()\n",
    "import plotly.offline as pyo\n",
    "%matplotlib inline"
   ]
  },
  {
   "cell_type": "code",
   "execution_count": null,
   "metadata": {
    "scrolled": true
   },
   "outputs": [],
   "source": [
    "datas = pd.read_csv('Data (1).csv'),low_memory=False)\n",
    "datas.head(1)"
   ]
  },
  {
   "cell_type": "markdown",
   "metadata": {},
   "source": [
    "### Exploratory Data Analysis\n",
    "\n",
    "#### Overview \n",
    "\n",
    "Our data is formatted as paired data. Each row represents response from a respondent, where we have the following information:\n",
    "\n",
    "- gender:\n",
    "- age group:\n",
    "- field of occupation:\n",
    "- social media platforms:\n",
    "- time spent on social media:\n",
    "- devices used:\n",
    "- preferred medium:\n",
    "- logged in frequency:\n",
    "- social media use in office: (0=no,1=yes)\n",
    "- routine at work: (0=no,1=yes)\n",
    "- importance to daily work life: (0=no,1=yes,2=prefer not to say)\n",
    "- addicted to social media: (0=no,1=yes,2=prefer not to say)\n",
    "- distraction at work: (0=no,1=yes,2=prefer not to say)\n",
    "- activities on social media:\n",
    "- impact on goals: (0=no,1=yes,2=prefer not to say)\n",
    "- impact on general output:\n"
   ]
  },
  {
   "cell_type": "code",
   "execution_count": null,
   "metadata": {},
   "outputs": [],
   "source": [
    "#plot showing distribution of occupation based on gender\n",
    "plot1=datas['Field of Occupation'].groupby(datas['Gender']).value_counts()\n",
    "plot1.iplot(kind=\"bar\",mode='markers',xTitle='Field of Occupation on gender')"
   ]
  },
  {
   "cell_type": "code",
   "execution_count": null,
   "metadata": {},
   "outputs": [],
   "source": [
    "plot2 = datas['Field of Occupation'].groupby(datas['Age Group']).value_counts()\n",
    "plot2.iplot(kind='bar',xTitle='Age Group on field of occupation')"
   ]
  },
  {
   "cell_type": "code",
   "execution_count": null,
   "metadata": {},
   "outputs": [],
   "source": [
    "plot3=datas['Field of Occupation'].groupby(datas['Preferred Medium']).value_counts()\n",
    "plot3.iplot(kind=\"scatter\",theme='solar',xTitle='preffered medium on Field of occupation')"
   ]
  },
  {
   "cell_type": "code",
   "execution_count": null,
   "metadata": {},
   "outputs": [],
   "source": [
    "plot4 = datas['Field of Occupation'].groupby(datas['Logged in Frequency']).value_counts()\n",
    "plot4.iplot(kind='scatter', mode='markers', title='plot showing logged in frequency based on field of occupation')"
   ]
  },
  {
   "cell_type": "code",
   "execution_count": null,
   "metadata": {},
   "outputs": [],
   "source": [
    "plot5=datas['Field of Occupation'].groupby(datas['Social Media Use in Office']).value_counts()\n",
    "plot5.iplot(kind='scatter',mode=' lines+markers+text',theme='solar',xTitle='social media use in office on field of occupation')"
   ]
  },
  {
   "cell_type": "code",
   "execution_count": null,
   "metadata": {},
   "outputs": [],
   "source": [
    "plot6 = datas['Field of Occupation'].groupby(datas['Activities on Social Media']).value_counts()\n",
    "plot6.iplot(kind='scatter',mode='lines+markers+text',theme='solar',xTitle='Activities on Social Media on Field of Occupation')"
   ]
  },
  {
   "cell_type": "code",
   "execution_count": null,
   "metadata": {},
   "outputs": [],
   "source": [
    "plot7 = datas['Field of Occupation'].groupby(datas['Addicted to Social Media']).value_counts()\n",
    "plot7.iplot(kind='line',xTitle='Addicted to Social Media on Field of Occupation')"
   ]
  },
  {
   "cell_type": "code",
   "execution_count": null,
   "metadata": {},
   "outputs": [],
   "source": [
    "plot8 = datas['Gender'].groupby(datas['Social Media Platforms']).value_counts()\n",
    "plot8.iplot(kind='scatter',xTitle='social media platforms on Gender')"
   ]
  },
  {
   "cell_type": "code",
   "execution_count": null,
   "metadata": {},
   "outputs": [],
   "source": [
    "plot9 = datas['Gender'].groupby(datas['Time Spent on Social Media']).value_counts()\n",
    "plot9.iplot(kind='bar',theme='solar',xTitle='Time spent on social Media on Gender')"
   ]
  },
  {
   "cell_type": "code",
   "execution_count": null,
   "metadata": {},
   "outputs": [],
   "source": [
    "plot10 = datas['Gender'].groupby(datas['Devices Used']).value_counts()\n",
    "plot10.iplot(kind='scatter',theme='solar',xTitle='devices used on gender')"
   ]
  },
  {
   "cell_type": "code",
   "execution_count": null,
   "metadata": {},
   "outputs": [],
   "source": [
    "plot11 = datas['Gender'].groupby(datas['Preferred Medium']).value_counts()\n",
    "plot11.iplot(kind ='scatter',mode='lines+markers+text',xTitle='preferred Medium')"
   ]
  },
  {
   "cell_type": "code",
   "execution_count": null,
   "metadata": {},
   "outputs": [],
   "source": [
    "datas[(datas[\"Field of Occupation\"]=='Employed')&(datas[\"Preferred Medium\"]=='Facebbok')]"
   ]
  },
  {
   "cell_type": "code",
   "execution_count": null,
   "metadata": {},
   "outputs": [],
   "source": [
    "datas['Gender'].value_counts().plot(kind = 'bar', figsize=(20,15))"
   ]
  },
  {
   "cell_type": "code",
   "execution_count": null,
   "metadata": {},
   "outputs": [],
   "source": [
    "datas['Field of Occupation'].value_counts().plot(kind = 'bar', figsize=(20,15))"
   ]
  },
  {
   "cell_type": "code",
   "execution_count": null,
   "metadata": {},
   "outputs": [],
   "source": [
    "datas['Social Media Platforms'].value_counts().plot(kind = 'bar', figsize=(20,15))"
   ]
  },
  {
   "cell_type": "code",
   "execution_count": null,
   "metadata": {},
   "outputs": [],
   "source": [
    "datas['Time Spent on Social Media'].value_counts().plot(kind = 'bar', figsize=(20,15))"
   ]
  },
  {
   "cell_type": "code",
   "execution_count": null,
   "metadata": {},
   "outputs": [],
   "source": [
    "datas['Devices Used'].value_counts().plot(kind = 'bar', figsize=(20,15))"
   ]
  },
  {
   "cell_type": "code",
   "execution_count": null,
   "metadata": {},
   "outputs": [],
   "source": [
    "datas['Preferred Medium'].value_counts().plot(kind = 'bar', figsize=(20,15))"
   ]
  },
  {
   "cell_type": "code",
   "execution_count": null,
   "metadata": {},
   "outputs": [],
   "source": [
    "datas['Logged in Frequency'].value_counts().plot(kind = 'bar', figsize=(20,15))"
   ]
  },
  {
   "cell_type": "code",
   "execution_count": null,
   "metadata": {},
   "outputs": [],
   "source": [
    "datas['Social Media Use in Office'].value_counts().plot(kind = 'bar', figsize=(20,15))"
   ]
  },
  {
   "cell_type": "code",
   "execution_count": null,
   "metadata": {},
   "outputs": [],
   "source": [
    "datas['Routine at Work'].value_counts().plot(kind = 'bar', figsize=(20,15))"
   ]
  },
  {
   "cell_type": "code",
   "execution_count": null,
   "metadata": {},
   "outputs": [],
   "source": [
    "datas['Importance to Daily Worklife'].value_counts().plot(kind = 'bar', figsize=(20,15))"
   ]
  },
  {
   "cell_type": "code",
   "execution_count": null,
   "metadata": {},
   "outputs": [],
   "source": [
    "datas['Addicted to Social Media'].value_counts().plot(kind = 'bar', figsize=(20,15))"
   ]
  },
  {
   "cell_type": "code",
   "execution_count": null,
   "metadata": {},
   "outputs": [],
   "source": [
    "datas['Distraction at Work'].value_counts().plot(kind = 'bar', figsize=(20,15))"
   ]
  },
  {
   "cell_type": "code",
   "execution_count": null,
   "metadata": {},
   "outputs": [],
   "source": [
    "datas['Activities on Social Media'].value_counts().plot(kind = 'bar', figsize=(20,15))"
   ]
  },
  {
   "cell_type": "code",
   "execution_count": null,
   "metadata": {},
   "outputs": [],
   "source": [
    "datas['Impact on Goals'].value_counts().plot(kind = 'bar', figsize=(20,15))"
   ]
  },
  {
   "cell_type": "code",
   "execution_count": null,
   "metadata": {},
   "outputs": [],
   "source": [
    "datas['Impact on general Output'].value_counts().plot(kind = 'bar', figsize=(20,15))"
   ]
  },
  {
   "cell_type": "code",
   "execution_count": null,
   "metadata": {},
   "outputs": [],
   "source": [
    "#population on age group in the survey dataset \n",
    "data0=datas['Age Group'].value_counts()\n",
    "data0"
   ]
  },
  {
   "cell_type": "code",
   "execution_count": null,
   "metadata": {},
   "outputs": [],
   "source": [
    "#population on gender in the survey dataset\n",
    "data1=datas['Gender'].value_counts()\n",
    "data1"
   ]
  },
  {
   "cell_type": "code",
   "execution_count": null,
   "metadata": {},
   "outputs": [],
   "source": [
    "#population on field of occupation in the survey dataset\n",
    "data2 = datas['Field of Occupation'].value_counts()\n",
    "data2"
   ]
  },
  {
   "cell_type": "code",
   "execution_count": null,
   "metadata": {},
   "outputs": [],
   "source": [
    "#this cell produces gender population based on their field of occupation in the survey dataset\n",
    "data2 = datas[(datas['Gender']=='Female') & (datas['Field of Occupation']=='Freelancer')]\n",
    "data2['Gender'].value_counts()"
   ]
  },
  {
   "cell_type": "code",
   "execution_count": null,
   "metadata": {},
   "outputs": [],
   "source": [
    "#this cell produces the population on how people uses the social media platforms\n",
    "data3 = datas['Social Media Platforms']\n",
    "data3.value_counts()"
   ]
  },
  {
   "cell_type": "code",
   "execution_count": null,
   "metadata": {},
   "outputs": [],
   "source": [
    "#this cell produces gender populaton based on their social media usage in the survey dataset\n",
    "data3 = datas[(datas['Gender']=='Male') & (datas['Social Media Platforms']=='1')]\n",
    "data3['Gender'].value_counts()"
   ]
  },
  {
   "cell_type": "code",
   "execution_count": null,
   "metadata": {},
   "outputs": [],
   "source": [
    "#this cell produces the number corresponding to amount of time spent on social media \n",
    "data4 = datas['Time Spent on Social Media']\n",
    "data4.value_counts()"
   ]
  },
  {
   "cell_type": "code",
   "execution_count": null,
   "metadata": {},
   "outputs": [],
   "source": [
    "#this cell produces gender population based on the amount of time spent on social media \n",
    "data4 = datas[(datas['Gender']=='Male') & (datas['Time Spent on Social Media'] == '2 hours and above')]\n",
    "data4['Gender'].value_counts()"
   ]
  },
  {
   "cell_type": "code",
   "execution_count": null,
   "metadata": {},
   "outputs": [],
   "source": [
    "#this cell produces the amount of devices used \n",
    "data5 = datas['Devices Used']\n",
    "data5.value_counts()"
   ]
  },
  {
   "cell_type": "code",
   "execution_count": null,
   "metadata": {},
   "outputs": [],
   "source": [
    "#this cell produces the particpants response to whether the use social media in office \n",
    "data8=datas['Social Media Use in Office']\n",
    "data8.value_counts()"
   ]
  },
  {
   "cell_type": "code",
   "execution_count": null,
   "metadata": {},
   "outputs": [],
   "source": [
    "#this cell produces the population of gender based on their yes or no reponds to usage of social media usage in office \n",
    "data8 = datas[(datas['Gender']=='Male') & (datas['Social Media Use in Office']=='No')]\n",
    "data8['Gender'].value_counts()"
   ]
  },
  {
   "cell_type": "code",
   "execution_count": null,
   "metadata": {},
   "outputs": [],
   "source": [
    "#this cell produces participants response to the routine at work \n",
    "data9=datas['Routine at Work']\n",
    "data9.value_counts()"
   ]
  },
  {
   "cell_type": "code",
   "execution_count": null,
   "metadata": {},
   "outputs": [],
   "source": [
    "#this cell produces the population of gender based on their response on their yes or no  to routine at work \n",
    "data9 = datas[(datas['Gender']=='Male') & (datas['Routine at Work']=='No')]\n",
    "data9['Gender'].value_counts()"
   ]
  },
  {
   "cell_type": "code",
   "execution_count": null,
   "metadata": {},
   "outputs": [],
   "source": [
    "#this cell produces the number of yes or no or prefer not to say responses to importance to daily worklife\n",
    "dat10 = datas['Importance to Daily Worklife']\n",
    "dat10.value_counts()"
   ]
  },
  {
   "cell_type": "code",
   "execution_count": null,
   "metadata": {},
   "outputs": [],
   "source": [
    "#this cell produces population of gender based on their response of importance to daily worklife \n",
    "data10 = datas[(datas['Gender']=='Male')&(datas['Importance to Daily Worklife']=='Prefer not to say')]\n",
    "data10['Gender'].value_counts()"
   ]
  },
  {
   "cell_type": "code",
   "execution_count": null,
   "metadata": {},
   "outputs": [],
   "source": [
    "#this cell producess the number of yes, no or prefer not to say to 'addicted to social media'\n",
    "data11 = datas['Addicted to Social Media']\n",
    "data11.value_counts()"
   ]
  },
  {
   "cell_type": "code",
   "execution_count": null,
   "metadata": {},
   "outputs": [],
   "source": [
    "#this cell produces the population of gender based on their response to 'addicted to social media'\n",
    "data11 = datas[(datas['Gender']=='Female')&(datas['Addicted to Social Media']=='Prefer not to say')]\n",
    "data11['Gender'].value_counts()"
   ]
  },
  {
   "cell_type": "code",
   "execution_count": null,
   "metadata": {},
   "outputs": [],
   "source": [
    "#this cell produces the number of yes,no, check news feed or prefer not to say response to 'distraction at work'\n",
    "data12 = datas['Distraction at Work']\n",
    "data12.value_counts()"
   ]
  },
  {
   "cell_type": "code",
   "execution_count": null,
   "metadata": {},
   "outputs": [],
   "source": [
    "#this cell produces the population of gender based their response to 'distraction at work' question\n",
    "data13 = datas[(datas['Gender']=='Male')&(datas['Distraction at Work']=='check news feed')]\n",
    "data13['Gender'].value_counts()"
   ]
  },
  {
   "cell_type": "code",
   "execution_count": null,
   "metadata": {},
   "outputs": [],
   "source": [
    "#this cell producs the number of responses about their 'logged in frequency' from the participants of this survey \n",
    "data14 = datas['Logged in Frequency']\n",
    "data14.value_counts()"
   ]
  },
  {
   "cell_type": "code",
   "execution_count": null,
   "metadata": {},
   "outputs": [],
   "source": [
    "#this cell produces the population of gender based on their response to 'logged in frequency' \n",
    "data14 = datas[(datas['Gender']=='Male')&(datas['Logged in Frequency']=='Never')]\n",
    "data14['Gender'].value_counts()"
   ]
  },
  {
   "cell_type": "code",
   "execution_count": null,
   "metadata": {},
   "outputs": [],
   "source": [
    "#this cell produces the number of response to their 'activies on social media'\n",
    "data14  = datas['Activities on Social Media']\n",
    "data14.value_counts()"
   ]
  },
  {
   "cell_type": "code",
   "execution_count": null,
   "metadata": {},
   "outputs": [],
   "source": [
    "#this cell produces population of gender based on their response to activities on social media \n",
    "dat14 = datas[(datas['Gender']=='Female')&(datas['Activities on Social Media']=='Check Newsfeed,Play games,Others')]\n",
    "dat14[\"Gender\"].value_counts()"
   ]
  },
  {
   "cell_type": "code",
   "execution_count": null,
   "metadata": {},
   "outputs": [],
   "source": [
    "#this cell produces number of yes or no responses to impact on goals\n",
    "data15 = datas['Impact on Goals']\n",
    "data15.value_counts()"
   ]
  },
  {
   "cell_type": "code",
   "execution_count": null,
   "metadata": {},
   "outputs": [],
   "source": [
    "#this cell produces population of gender based on their responses to 'impact on goals'\n",
    "data15 = datas[(datas['Gender']=='Male')&(datas['Impact on Goals']=='No')]\n",
    "data15['Gender'].value_counts()"
   ]
  },
  {
   "cell_type": "code",
   "execution_count": null,
   "metadata": {},
   "outputs": [],
   "source": [
    "#this cells produces number of responses from particpants on 'impact on general output'\n",
    "data16 = datas['Impact on general Output']\n",
    "data16.value_counts()"
   ]
  },
  {
   "cell_type": "code",
   "execution_count": null,
   "metadata": {},
   "outputs": [],
   "source": [
    "#this cell produces population of genders based on their reponse to 'impact on general output'\n",
    "data17 = datas[(datas['Gender']=='Female') & (datas['Impact on general Output']=='Great')]"
   ]
  },
  {
   "cell_type": "code",
   "execution_count": null,
   "metadata": {},
   "outputs": [],
   "source": [
    "data17['Gender'].value_counts()"
   ]
  },
  {
   "cell_type": "code",
   "execution_count": null,
   "metadata": {},
   "outputs": [],
   "source": [
    "import pandas as pd \n",
    "import numpy as np \n",
    "import matplotlib.pyplot as plt\n",
    "\n",
    "data=pd.read_csv('Data (1).csv')\n",
    "data=data.dropna()"
   ]
  },
  {
   "cell_type": "code",
   "execution_count": null,
   "metadata": {},
   "outputs": [],
   "source": [
    "\n",
    "# function to get the unique values in a given column\n",
    "\n",
    "def findUnique (data,column):\n",
    "    \n",
    "    \"\"\"Returns the unique values in the given column\"\"\"\n",
    "    \n",
    "    column = data[column]\n",
    "    uniqueValue = column.unique()\n",
    "    \n",
    "    return uniqueValue\n"
   ]
  },
  {
   "cell_type": "code",
   "execution_count": null,
   "metadata": {},
   "outputs": [],
   "source": [
    "def VariableCount(data,column):\n",
    "    \n",
    "    \"\"\"returns the count of each unique value in a column\"\"\"\n",
    "    \n",
    "    uniqueValues = findUnique(data,column)\n",
    "    countList = []\n",
    "    countDict={}\n",
    "    \n",
    "    for i in range(len(uniqueValues)):\n",
    "        \n",
    "        countVariable = data[data[column] == uniqueValues[i] ].count()\n",
    "        countVariable = countVariable[column]\n",
    "        \n",
    "        countList.append(countVariable)\n",
    "        countDict[uniqueValues[i]]=countList[i]\n",
    "    \n",
    "    return countDict\n"
   ]
  },
  {
   "cell_type": "code",
   "execution_count": null,
   "metadata": {},
   "outputs": [],
   "source": [
    "cols=data.columns\n",
    "\n",
    "for col in cols:\n",
    "    col=str(col)\n",
    "    print(col,\":\")\n",
    "    print( '\\n', VariableCount(data,col),'\\n')\n",
    "    "
   ]
  },
  {
   "cell_type": "code",
   "execution_count": null,
   "metadata": {},
   "outputs": [],
   "source": [
    "\n",
    "def replaceValue(data,column):\n",
    "    \n",
    "    \"\"\"converts non-numerical columns to numerical values \n",
    "    by converting assigning number starting from 0, to the unique values of the column\"\"\"\n",
    "    \n",
    "    uniqueValues=findUnique(data,column)\n",
    "    arrayVal=np.arange(0,len(uniqueValues))\n",
    "    dic={}\n",
    "    \n",
    "    for i in range(0,len(uniqueValues)):\n",
    "        dic[uniqueValues[i]]=i \n",
    "    newval=data[column].replace( dic)\n",
    "    return newval\n",
    "\n",
    "\n",
    "\n",
    "#applying the replace on data\n",
    "Columns=data.columns\n",
    "for column in Columns:\n",
    "    data[column]=replaceValue(data,column)\n"
   ]
  },
  {
   "cell_type": "code",
   "execution_count": null,
   "metadata": {},
   "outputs": [],
   "source": [
    "\"\"\"findng the pearson correlation on the data\"\"\"\n",
    "result=data.corr(method='pearson')\n",
    "result"
   ]
  },
  {
   "cell_type": "code",
   "execution_count": null,
   "metadata": {},
   "outputs": [],
   "source": [
    "def pearson_r(x, y):\n",
    "    \"\"\"Compute Pearson correlation coefficient between two arrays.\"\"\"\n",
    "    # Compute correlation matrix: corr_mat\n",
    "    x=data[x].values\n",
    "    y=data[y].values\n",
    "    corr_mat = np.corrcoef(x, y)\n",
    "\n",
    "    # Return entry [0,1]\n",
    "    return corr_mat[0, 1]"
   ]
  },
  {
   "cell_type": "code",
   "execution_count": null,
   "metadata": {},
   "outputs": [],
   "source": [
    "print(\"Pearson correlation coefficient between some selected columns: \\n\")\n",
    "print('''Routine at Work and Addicted to Social Media: {}\\n\\nSocial Media Use in Office and Distraction at Work: {}\\n\\nAddicted to Social Media and Impact on Goals: {}\\n\\nRoutine at Work and Gender {}\\n\\nAddicted to Social Media and Gender:{}\n",
    "      \n",
    "      '''\n",
    "      \n",
    "      \n",
    "      .format (pearson_r(\"Routine at Work\",\"Addicted to Social Media\"),\n",
    "pearson_r(\"Social Media Use in Office\",\"Distraction at Work\"),\n",
    "pearson_r(\"Addicted to Social Media\",\"Impact on Goals\"),\n",
    "pearson_r(\"Routine at Work\",\"Gender\"),\n",
    "pearson_r(\"Addicted to Social Media\",\"Gender\")))\n",
    "\n"
   ]
  }
 ],
 "metadata": {
  "kernelspec": {
   "display_name": "Python 3",
   "language": "python",
   "name": "python3"
  },
  "language_info": {
   "codemirror_mode": {
    "name": "ipython",
    "version": 3
   },
   "file_extension": ".py",
   "mimetype": "text/x-python",
   "name": "python",
   "nbconvert_exporter": "python",
   "pygments_lexer": "ipython3",
   "version": "3.7.1"
  }
 },
 "nbformat": 4,
 "nbformat_minor": 2
}
